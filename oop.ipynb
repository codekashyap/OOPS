{
 "cells": [
  {
   "cell_type": "markdown",
   "metadata": {},
   "source": [
    "![image.png](attachment:image.png)"
   ]
  },
  {
   "cell_type": "markdown",
   "metadata": {},
   "source": [
    "\n",
    "\n",
    "    Python is an object oriented programming language but it does not force programmers to write programs in complete object oriented way\n",
    "    Important concepts of OOP is\n",
    "      \n",
    "    > Objects and classes\n",
    "    > Encapsulation\n",
    "    > Abstraction\n",
    "    > Inheritance\n",
    "    > Polymorphism"
   ]
  },
  {
   "cell_type": "markdown",
   "metadata": {},
   "source": [
    "# Create a Class"
   ]
  },
  {
   "cell_type": "code",
   "execution_count": 1,
   "metadata": {},
   "outputs": [],
   "source": [
    "#To create a class, use the keyword class:\n",
    "class Person:\n",
    "    # Member data(variables)\n",
    "    name = 'Person1'\n",
    "    age = 20\n",
    "    \n",
    "    # Member functions(methods)\n",
    "    def activity(self):\n",
    "        print(self.name)\n",
    "        print(self.age)\n",
    "        "
   ]
  },
  {
   "cell_type": "code",
   "execution_count": 2,
   "metadata": {},
   "outputs": [
    {
     "name": "stdout",
     "output_type": "stream",
     "text": [
      "Person1\n",
      "20\n"
     ]
    }
   ],
   "source": [
    "#Creating objects \n",
    "\n",
    "P1=Person()\n",
    "P1.activity()"
   ]
  },
  {
   "cell_type": "markdown",
   "metadata": {},
   "source": [
    "# Encapsulation\n",
    "Binding data(variables) and code (methods) that act on data.\n",
    "\n",
    "    Accessibility of data\n",
    "        > Public\n",
    "        > Private\n",
    "        > Protected\n",
    "\n",
    "    But in python by default all members(data & methods) of the class are public. They can be accessed outside the class.\n",
    "    \"Uniform Access Principle\"\n",
    "    \n",
    "    The example is demonstrated is class Person\n",
    "\n",
    "\n"
   ]
  },
  {
   "cell_type": "code",
   "execution_count": 1,
   "metadata": {},
   "outputs": [
    {
     "name": "stdout",
     "output_type": "stream",
     "text": [
      "Hello\n"
     ]
    }
   ],
   "source": [
    "#Another example\n",
    "class Test: \n",
    "      \n",
    "    def fun(self): \n",
    "        print(\"Hello\") \n",
    "\n",
    "        \n",
    "obj = Test() \n",
    "obj.fun()"
   ]
  },
  {
   "cell_type": "code",
   "execution_count": 2,
   "metadata": {},
   "outputs": [
    {
     "name": "stdout",
     "output_type": "stream",
     "text": [
      "Hello\n"
     ]
    }
   ],
   "source": [
    "#Another example without self\n",
    "class Test: \n",
    "      \n",
    "    def fun(): \n",
    "        print(\"Hello\") \n",
    "\n",
    "        \n",
    "obj = Test\n",
    "obj.fun()"
   ]
  },
  {
   "cell_type": "markdown",
   "metadata": {},
   "source": [
    "## Empty Class\n",
    "    class definitions cannot be empty, but if you for some reason have a class definition with no content, put in the pass statement to avoid getting an error."
   ]
  },
  {
   "cell_type": "code",
   "execution_count": 3,
   "metadata": {},
   "outputs": [],
   "source": [
    "class Student: \n",
    "    pass"
   ]
  },
  {
   "cell_type": "code",
   "execution_count": 4,
   "metadata": {},
   "outputs": [],
   "source": [
    "Student1=Student()\n",
    "Student2=Student()"
   ]
  },
  {
   "cell_type": "code",
   "execution_count": 5,
   "metadata": {},
   "outputs": [],
   "source": [
    "Student1.name='Anitha'\n",
    "Student1.admyear=2020\n",
    "Student1.sem =1\n",
    "\n",
    "Student2.name='Modi'\n",
    "Student1.admyear=2019\n",
    "Student1.sem =3"
   ]
  },
  {
   "cell_type": "code",
   "execution_count": 6,
   "metadata": {},
   "outputs": [
    {
     "name": "stdout",
     "output_type": "stream",
     "text": [
      "Anitha\n",
      "Modi\n"
     ]
    }
   ],
   "source": [
    "print(Student1.name)\n",
    "print(Student2.name)"
   ]
  },
  {
   "cell_type": "code",
   "execution_count": 7,
   "metadata": {},
   "outputs": [
    {
     "name": "stdout",
     "output_type": "stream",
     "text": [
      "Anitha Modi\n"
     ]
    }
   ],
   "source": [
    "print(Student1.name +\" \" + Student2.name)"
   ]
  },
  {
   "cell_type": "code",
   "execution_count": 8,
   "metadata": {},
   "outputs": [],
   "source": [
    "Student1.age=18"
   ]
  },
  {
   "cell_type": "code",
   "execution_count": 9,
   "metadata": {},
   "outputs": [
    {
     "name": "stdout",
     "output_type": "stream",
     "text": [
      "18\n"
     ]
    }
   ],
   "source": [
    "print(Student1.age)"
   ]
  },
  {
   "cell_type": "code",
   "execution_count": 10,
   "metadata": {},
   "outputs": [
    {
     "ename": "AttributeError",
     "evalue": "'Student' object has no attribute 'age'",
     "output_type": "error",
     "traceback": [
      "\u001b[1;31m---------------------------------------------------------------------------\u001b[0m",
      "\u001b[1;31mAttributeError\u001b[0m                            Traceback (most recent call last)",
      "\u001b[1;32m~\\AppData\\Local\\Temp\\ipykernel_8020\\2537746331.py\u001b[0m in \u001b[0;36m<module>\u001b[1;34m\u001b[0m\n\u001b[1;32m----> 1\u001b[1;33m \u001b[0mprint\u001b[0m\u001b[1;33m(\u001b[0m\u001b[0mStudent2\u001b[0m\u001b[1;33m.\u001b[0m\u001b[0mage\u001b[0m\u001b[1;33m)\u001b[0m\u001b[1;33m\u001b[0m\u001b[1;33m\u001b[0m\u001b[0m\n\u001b[0m",
      "\u001b[1;31mAttributeError\u001b[0m: 'Student' object has no attribute 'age'"
     ]
    }
   ],
   "source": [
    "print(Student2.age)"
   ]
  },
  {
   "cell_type": "code",
   "execution_count": 11,
   "metadata": {},
   "outputs": [],
   "source": [
    "# You can delete properties on objects by using the del keyword:\n",
    "\n",
    "del Student1.age"
   ]
  },
  {
   "cell_type": "code",
   "execution_count": 12,
   "metadata": {},
   "outputs": [
    {
     "ename": "AttributeError",
     "evalue": "'Student' object has no attribute 'age'",
     "output_type": "error",
     "traceback": [
      "\u001b[1;31m---------------------------------------------------------------------------\u001b[0m",
      "\u001b[1;31mAttributeError\u001b[0m                            Traceback (most recent call last)",
      "\u001b[1;32m~\\AppData\\Local\\Temp\\ipykernel_8020\\262596181.py\u001b[0m in \u001b[0;36m<module>\u001b[1;34m\u001b[0m\n\u001b[1;32m----> 1\u001b[1;33m \u001b[0mprint\u001b[0m\u001b[1;33m(\u001b[0m\u001b[0mStudent1\u001b[0m\u001b[1;33m.\u001b[0m\u001b[0mage\u001b[0m\u001b[1;33m)\u001b[0m\u001b[1;33m\u001b[0m\u001b[1;33m\u001b[0m\u001b[0m\n\u001b[0m",
      "\u001b[1;31mAttributeError\u001b[0m: 'Student' object has no attribute 'age'"
     ]
    }
   ],
   "source": [
    "print(Student1.age)"
   ]
  },
  {
   "cell_type": "code",
   "execution_count": 13,
   "metadata": {},
   "outputs": [],
   "source": [
    "#You can delete objects by using the del keyword:\n",
    "del Student1"
   ]
  },
  {
   "cell_type": "code",
   "execution_count": 14,
   "metadata": {},
   "outputs": [
    {
     "ename": "NameError",
     "evalue": "name 'Student1' is not defined",
     "output_type": "error",
     "traceback": [
      "\u001b[1;31m---------------------------------------------------------------------------\u001b[0m",
      "\u001b[1;31mNameError\u001b[0m                                 Traceback (most recent call last)",
      "\u001b[1;32m~\\AppData\\Local\\Temp\\ipykernel_8020\\3236339467.py\u001b[0m in \u001b[0;36m<module>\u001b[1;34m\u001b[0m\n\u001b[1;32m----> 1\u001b[1;33m \u001b[0mprint\u001b[0m\u001b[1;33m(\u001b[0m\u001b[0mStudent1\u001b[0m\u001b[1;33m.\u001b[0m\u001b[0mname\u001b[0m\u001b[1;33m)\u001b[0m\u001b[1;33m\u001b[0m\u001b[1;33m\u001b[0m\u001b[0m\n\u001b[0m",
      "\u001b[1;31mNameError\u001b[0m: name 'Student1' is not defined"
     ]
    }
   ],
   "source": [
    "print(Student1.name)"
   ]
  },
  {
   "cell_type": "markdown",
   "metadata": {},
   "source": [
    "### Declaration and initialization of variables\""
   ]
  },
  {
   "cell_type": "markdown",
   "metadata": {},
   "source": [
    "### The __init__ method\n",
    "    The __init__ method is similar to constructors in C++ and Java. It is run as soon as an object of a class is instantiated. Use the __init__() function to assign values to object properties, or other operations that are necessary to do when the object is being created.\n",
    "    \n",
    "### self\n",
    "    Similar to this pointer in C++ and this reference in Java. Contains memory address of the instance of the current class.\n",
    "    Class methods must have an extra first parameter in method definition. We do not give a value for this parameter when we call the method, Python provides it\n",
    "    If we have a method which takes no arguments, then we still have to have one argument – the self.\n",
    "    \n",
    "    When we call a method of this object as myobject.method(arg1, arg2), this is automatically converted by Python into MyClass.method(myobject, arg1, arg2) – this is all the special self is about.\n",
    "    "
   ]
  },
  {
   "cell_type": "code",
   "execution_count": 20,
   "metadata": {
    "collapsed": true
   },
   "outputs": [],
   "source": [
    "class Student: \n",
    "    def __init__(self,stdname,stdyear,stdsem,stdfees):\n",
    "        self.name=stdname\n",
    "        self.admyear=stdyear\n",
    "        self.sem=stdsem\n",
    "        self.fees=stdfees\n",
    "        \n",
    "    def feechange(self):\n",
    "        self.fees=self.fees+self.fees*0.1\n",
    "        print(\"New fees is\",self.fees)"
   ]
  },
  {
   "cell_type": "code",
   "execution_count": 21,
   "metadata": {
    "collapsed": true
   },
   "outputs": [],
   "source": [
    "s1=Student('Abc',2020,1,45000)"
   ]
  },
  {
   "cell_type": "code",
   "execution_count": 22,
   "metadata": {},
   "outputs": [
    {
     "name": "stdout",
     "output_type": "stream",
     "text": [
      "{'name': 'Abc', 'admyear': 2020, 'sem': 1, 'fees': 45000}\n"
     ]
    }
   ],
   "source": [
    "print(s1.__dict__)"
   ]
  },
  {
   "cell_type": "code",
   "execution_count": 23,
   "metadata": {},
   "outputs": [
    {
     "name": "stdout",
     "output_type": "stream",
     "text": [
      "New fees is 49500.0\n"
     ]
    }
   ],
   "source": [
    "s1.feechange()"
   ]
  },
  {
   "cell_type": "markdown",
   "metadata": {},
   "source": [
    "# Abstraction in Python"
   ]
  },
  {
   "cell_type": "code",
   "execution_count": 39,
   "metadata": {
    "collapsed": true
   },
   "outputs": [],
   "source": [
    "class MyClass:\n",
    "    #This is a constructor\n",
    "    def __init__(self):\n",
    "        self.x=7\n",
    "        self.__y=3     # __y is a private member\n",
    "        "
   ]
  },
  {
   "cell_type": "code",
   "execution_count": 40,
   "metadata": {},
   "outputs": [
    {
     "name": "stdout",
     "output_type": "stream",
     "text": [
      "7\n"
     ]
    }
   ],
   "source": [
    "m1=MyClass()\n",
    "print(m1.x)"
   ]
  },
  {
   "cell_type": "code",
   "execution_count": 41,
   "metadata": {},
   "outputs": [
    {
     "ename": "AttributeError",
     "evalue": "'MyClass' object has no attribute '__y'",
     "output_type": "error",
     "traceback": [
      "\u001b[1;31m---------------------------------------------------------------------------\u001b[0m",
      "\u001b[1;31mAttributeError\u001b[0m                            Traceback (most recent call last)",
      "\u001b[1;32m<ipython-input-41-0c634815272f>\u001b[0m in \u001b[0;36m<module>\u001b[1;34m\u001b[0m\n\u001b[1;32m----> 1\u001b[1;33m \u001b[0mprint\u001b[0m\u001b[1;33m(\u001b[0m\u001b[0mm1\u001b[0m\u001b[1;33m.\u001b[0m\u001b[0m__y\u001b[0m\u001b[1;33m)\u001b[0m\u001b[1;33m\u001b[0m\u001b[1;33m\u001b[0m\u001b[0m\n\u001b[0m",
      "\u001b[1;31mAttributeError\u001b[0m: 'MyClass' object has no attribute '__y'"
     ]
    }
   ],
   "source": [
    "print(m1.__y)"
   ]
  },
  {
   "cell_type": "code",
   "execution_count": 42,
   "metadata": {},
   "outputs": [
    {
     "name": "stdout",
     "output_type": "stream",
     "text": [
      "3\n"
     ]
    }
   ],
   "source": [
    "# Name mangling \n",
    "# Required to print private data members of the class\n",
    "\n",
    "print(m1._MyClass__y)"
   ]
  },
  {
   "cell_type": "code",
   "execution_count": 43,
   "metadata": {
    "collapsed": true
   },
   "outputs": [],
   "source": [
    "class MyClass:\n",
    "    #This is a constructor\n",
    "    def __init__(self):\n",
    "        self.x=7\n",
    "        self.__y=3     # __y is a private member\n",
    "    \n",
    "    # Instance method to access the class variables\n",
    "    def display(self):\n",
    "        print(self.x)\n",
    "        print(self.__y)"
   ]
  },
  {
   "cell_type": "code",
   "execution_count": 44,
   "metadata": {},
   "outputs": [
    {
     "name": "stdout",
     "output_type": "stream",
     "text": [
      "7\n",
      "3\n"
     ]
    }
   ],
   "source": [
    "m2=MyClass()\n",
    "m2.display()"
   ]
  },
  {
   "cell_type": "markdown",
   "metadata": {},
   "source": [
    "# Constructor\n",
    "    A special method used to initialize the instance variables of a class.\n",
    "    The task of constructors is to initialize(assign values) to the data members of the class when an object \n",
    "    of class is created.\n",
    "    __init__() method is called for this purpose\n",
    "    \n",
    "    Syntax:\n",
    "    \n",
    "     def __init__(self):\n",
    "     # body of the constructor"
   ]
  },
  {
   "cell_type": "markdown",
   "metadata": {},
   "source": [
    "## Types of constructors\n",
    "### Default constructor \n",
    "    Simple constructor which doesn’t accept any arguments.\n",
    "    It’s definition has only one argument (self) which is a reference to the instance being constructed.\n",
    "### Parameterized constructor \n",
    "    Constructor with parameters is known as parameterized constructor.\n",
    "    The parameterized constructor take its first argument as a reference to the instance being constructed (self) \n",
    "    and the rest of the arguments are provided by the programmer."
   ]
  },
  {
   "cell_type": "code",
   "execution_count": 1,
   "metadata": {},
   "outputs": [
    {
     "name": "stdout",
     "output_type": "stream",
     "text": [
      "20\n"
     ]
    }
   ],
   "source": [
    "#Example for default contructors\n",
    "class DemoConstructors:\n",
    "    \n",
    "    # default constructor \n",
    "    def __init__(self): \n",
    "        self.Variable = 20\n",
    "  \n",
    "    # a method for printing data members \n",
    "    def PrintVariable(self): \n",
    "        print(self.Variable) \n",
    "  \n",
    "  \n",
    "# creating object of the class \n",
    "Object = DemoConstructors() \n",
    "  \n",
    "# calling the instance method using the object obj \n",
    "Object.PrintVariable() "
   ]
  },
  {
   "cell_type": "code",
   "execution_count": 2,
   "metadata": {},
   "outputs": [
    {
     "name": "stdout",
     "output_type": "stream",
     "text": [
      "Modi PSC LAB\n",
      "Anitha OOP\n"
     ]
    }
   ],
   "source": [
    "#Example for Parameterized contructors\n",
    "class DemoConstructors:\n",
    "        \n",
    "  \n",
    "    # Parameterized constructor \n",
    "           \n",
    "    def __init__(self,a='Modi',b='PSC LAB'): \n",
    "        \n",
    "        self.Variable2 = a\n",
    "        self.Variable3 = b   \n",
    "  \n",
    "    # a method for printing data members \n",
    "    def PrintVariable(self): \n",
    "        \n",
    "        print(self.Variable2, self.Variable3) \n",
    "  \n",
    "  \n",
    "# creating object of the class \n",
    "Object = DemoConstructors() \n",
    "Object2 = DemoConstructors('Anitha','OOP') \n",
    "  \n",
    "# calling the instance method using the object c \n",
    "Object.PrintVariable() \n",
    "Object2.PrintVariable() \n"
   ]
  },
  {
   "cell_type": "markdown",
   "metadata": {},
   "source": [
    "# Type of Variable\n",
    "    The varibles written inside a class are of two types\n",
    "    > Instance variables\n",
    "               The instance or non-static variables are different for different objects (every object has a copy of it).\n",
    "               They are defined and initiazed using a constuctor and self as parameter.\n",
    "               To access instance variables we need instance methods with self as first parameter.\n",
    "    > Class variables or static variables\n",
    "                Class or static variables are shared by all objects. \n",
    "                A single copy is shared admist all instances of the class\n",
    "                Any change in class variable will be propagated among all instances of that class. \n",
    "                They are declared in the class and initialized with a value.\n",
    "                \n",
    "                "
   ]
  },
  {
   "cell_type": "code",
   "execution_count": 3,
   "metadata": {},
   "outputs": [
    {
     "name": "stdout",
     "output_type": "stream",
     "text": [
      "Modi PSC LAB\n",
      "Anitha OOP\n"
     ]
    }
   ],
   "source": [
    "# Demo for instance variable\n",
    "\n",
    "class DemoConstructors:\n",
    "        \n",
    "  \n",
    "    # Parameterized constructor used to initialize instance variable\n",
    "           \n",
    "    def __init__(self,a='Modi',b='PSC LAB'): \n",
    "        \n",
    "        self.Variable2 = a\n",
    "        self.Variable3 = b   \n",
    "  \n",
    "    # a method for printing data members \n",
    "    def PrintVariable(self): \n",
    "        \n",
    "        print(self.Variable2, self.Variable3) \n",
    "  \n",
    "  \n",
    "# creating object of the class \n",
    "Object = DemoConstructors() \n",
    "Object2 = DemoConstructors('Anitha','OOP') \n",
    "  \n",
    "# calling the instance method using the object c \n",
    "Object.PrintVariable() \n",
    "Object2.PrintVariable() "
   ]
  },
  {
   "cell_type": "code",
   "execution_count": 4,
   "metadata": {},
   "outputs": [
    {
     "name": "stdout",
     "output_type": "stream",
     "text": [
      "0 Modi PSC LAB\n",
      "0 Anitha OOP\n",
      "Changing the Class variable using class name\n",
      "20 Modi PSC LAB\n",
      "20 Anitha OOP\n"
     ]
    }
   ],
   "source": [
    "#Demo for Class variables/static variables\n",
    "class DemoConstructors:\n",
    "    #Class Variable declared and initialized \n",
    "    Variable1=0\n",
    "        \n",
    "  \n",
    "    # Parameterized constructor with instance variable\n",
    "           \n",
    "    def __init__(self,a='Modi',b='PSC LAB'): \n",
    "        self.Variable2 = a\n",
    "        self.Variable3 = b   \n",
    "  \n",
    "    # a method for printing data members \n",
    "    def PrintVariable(self):\n",
    "               \n",
    "        print(self.Variable1, self.Variable2, self.Variable3) \n",
    "        \n",
    "# Creating objects of the class \n",
    "Object = DemoConstructors() \n",
    "Object2 = DemoConstructors('Anitha','OOP') \n",
    "\n",
    "  \n",
    "# calling the instance method using the object c \n",
    "Object.PrintVariable() \n",
    "Object2.PrintVariable() \n",
    "\n",
    "#Changing the Class variable using class name\n",
    "print(\"Changing the Class variable using class name\")\n",
    "DemoConstructors.Variable1=20\n",
    "Object.PrintVariable() \n",
    "Object2.PrintVariable() \n",
    "\n"
   ]
  },
  {
   "cell_type": "markdown",
   "metadata": {},
   "source": [
    "# Types of Method\n",
    "    The purpose of a method is to process a member data of a class.\n",
    "    Types of methods\n",
    "    > Instance Methods\n",
    "        Used to access / change instance variables of a class\n",
    "        Further can be seggregated as \n",
    "        > Accessor method\n",
    "            Used to read / get member data of a class\n",
    "            Usually method name begins with get\n",
    "        > Mutator method\n",
    "            Used to manipulate / change member data of the class\n",
    "            Usually method name begins with set\n",
    "            \n",
    "    > Class Methods\n",
    "        These methods acts on class level variables/data members \n",
    "        Written using @classmethod above them\n",
    "    \n",
    "    >Static methods\n",
    "         Methods to processing is required at class level\n",
    "         Written using @staticmethod above them\n",
    "         Example:\n",
    "         Setting environment variables\n",
    "         Counting number of instances created for a class"
   ]
  },
  {
   "cell_type": "code",
   "execution_count": 5,
   "metadata": {},
   "outputs": [
    {
     "name": "stdout",
     "output_type": "stream",
     "text": [
      "Anitha is a student of CSE branch\n",
      "20BCE001 is a student of CSE branch\n"
     ]
    }
   ],
   "source": [
    "# Class Methods\n",
    "#    These methods acts on class level variables/data members \n",
    "#    Written using @classmethod above them\n",
    "\n",
    "class ComputerStudent:\n",
    "    #Class Variable\n",
    "    Branch='CSE'\n",
    "     \n",
    "    # A Class method\n",
    "    @classmethod\n",
    "    def NameStudent(x,name):\n",
    "        print('{} is a student of {} branch'.format(name,x.Branch))\n",
    "        \n",
    "ComputerStudent.NameStudent('Anitha')\n",
    "ComputerStudent.NameStudent('20BCE001')"
   ]
  },
  {
   "cell_type": "code",
   "execution_count": 6,
   "metadata": {},
   "outputs": [
    {
     "name": "stdout",
     "output_type": "stream",
     "text": [
      "The number of instances created:  4\n"
     ]
    }
   ],
   "source": [
    "#Static methods\n",
    "#     Methods to processing is required at class level\n",
    "#     Example:\n",
    "#     Setting environment variables\n",
    "#     Counting number of instances created for a class\n",
    "\n",
    "\n",
    "class MyClass:\n",
    "    #class variable\n",
    "    NObjects=0\n",
    "    \n",
    "    \n",
    "    # constructor that increments class variable when an object is created\n",
    "    def __init__(self):\n",
    "        MyClass.NObjects= MyClass.NObjects + 1\n",
    "        \n",
    "   # no self used in this method which is a default argument \n",
    "    @staticmethod\n",
    "    def NumberOfObjects():\n",
    "        print('The number of instances created: ',MyClass.NObjects)\n",
    "        \n",
    "\n",
    "obj1=MyClass()\n",
    "obj2=MyClass()\n",
    "obj3=MyClass()\n",
    "obj4=MyClass()\n",
    "\n",
    "MyClass.NumberOfObjects()\n"
   ]
  },
  {
   "cell_type": "markdown",
   "metadata": {},
   "source": [
    "# Polymorphism"
   ]
  },
  {
   "cell_type": "code",
   "execution_count": 15,
   "metadata": {},
   "outputs": [
    {
     "name": "stdout",
     "output_type": "stream",
     "text": [
      "5\n",
      "3\n"
     ]
    }
   ],
   "source": [
    "# Python program to demonstrate in-built polymorphic functions \n",
    "# len() being used for a string \n",
    "print(len(\"geeks\")) \n",
    "  \n",
    "# len() being used for a list \n",
    "print(len([10, 20, 30])) "
   ]
  },
  {
   "cell_type": "code",
   "execution_count": 16,
   "metadata": {},
   "outputs": [
    {
     "name": "stdout",
     "output_type": "stream",
     "text": [
      "5\n",
      "9\n"
     ]
    }
   ],
   "source": [
    "#Another example\n",
    "def add(x, y, z = 0):  \n",
    "    return x + y+z \n",
    "  \n",
    "\n",
    "print(add(2, 3)) \n",
    "print(add(2, 3, 4))"
   ]
  },
  {
   "cell_type": "markdown",
   "metadata": {},
   "source": [
    "### Polymorphism with class methods:\n",
    "Below code shows how python can use two different class types, in the same way. "
   ]
  },
  {
   "cell_type": "code",
   "execution_count": 17,
   "metadata": {},
   "outputs": [
    {
     "name": "stdout",
     "output_type": "stream",
     "text": [
      "New Delhi is the capital of India.\n",
      "Hindi the primary language of India.\n",
      "India is a developing country.\n",
      "Washington, D.C. is the capital of USA.\n",
      "English is the primary language of USA.\n",
      "USA is a developed country.\n"
     ]
    }
   ],
   "source": [
    "class India(): \n",
    "    def capital(self): \n",
    "        print(\"New Delhi is the capital of India.\") \n",
    "  \n",
    "    def language(self): \n",
    "        print(\"Hindi the primary language of India.\") \n",
    "  \n",
    "    def type(self): \n",
    "        print(\"India is a developing country.\") \n",
    "\n",
    "class USA(): \n",
    "    def capital(self): \n",
    "        print(\"Washington, D.C. is the capital of USA.\") \n",
    "  \n",
    "    def language(self): \n",
    "        print(\"English is the primary language of USA.\") \n",
    "  \n",
    "    def type(self): \n",
    "        print(\"USA is a developed country.\") \n",
    "\n",
    "obj_ind = India() \n",
    "obj_usa = USA() \n",
    "for country in (obj_ind, obj_usa): \n",
    "    country.capital() \n",
    "    country.language() \n",
    "    country.type() "
   ]
  },
  {
   "cell_type": "markdown",
   "metadata": {},
   "source": [
    "### Polymorphism with Inheritance:\n",
    "    Lets define methods in the child class that have the same name as the methods in the parent class. \n",
    "    In inheritance, the child class inherits the methods from the parent class.\n",
    "    However, it is possible to modify a method in a child class that it has inherited from the parent class. This is particularly useful in cases where the method inherited from the parent class doesn’t quite fit the child class. In such cases, we re-implement the method in the child class. This process of re-implementing a method in the child class is known as Method Overriding."
   ]
  },
  {
   "cell_type": "code",
   "execution_count": 20,
   "metadata": {},
   "outputs": [
    {
     "name": "stdout",
     "output_type": "stream",
     "text": [
      "There are many types of birds.\n",
      "Most of the birds can fly but some cannot.\n",
      "There are many types of birds.\n",
      "Sparrows can fly.\n",
      "There are many types of birds.\n",
      "Ostriches cannot fly.\n"
     ]
    }
   ],
   "source": [
    "class Bird:\n",
    "    def intro(self): \n",
    "        print(\"There are many types of birds.\") \n",
    "      \n",
    "    def flight(self): \n",
    "        print(\"Most of the birds can fly but some cannot.\") \n",
    "    \n",
    "class sparrow(Bird): \n",
    "    def flight(self): \n",
    "        print(\"Sparrows can fly.\") \n",
    "      \n",
    "class ostrich(Bird): \n",
    "    def flight(self): \n",
    "        print(\"Ostriches cannot fly.\") \n",
    "      \n",
    "obj_bird = Bird() \n",
    "obj_spr = sparrow() \n",
    "obj_ost = ostrich() \n",
    "  \n",
    "obj_bird.intro() \n",
    "obj_bird.flight() \n",
    "  \n",
    "obj_spr.intro() \n",
    "obj_spr.flight() \n",
    "  \n",
    "obj_ost.intro() \n",
    "obj_ost.flight() "
   ]
  },
  {
   "cell_type": "markdown",
   "metadata": {},
   "source": [
    "### Polymorphism with a Function and objects:\n",
    "    It is also possible to create a function that can take any object, allowing for polymorphism. \n",
    "    \n",
    "    In this example, let’s create a function called “func()” which will take an object which we will name “obj”. \n",
    "    Calls three methods, viz., capital(), language() and type(), each of which is defined in the two classes ‘India’ and ‘USA’. \n",
    "    Next, let’s create instantiations of both the ‘India’ and ‘USA’ classes if we don’t have them already.\n",
    "    With those, we can call their action using the same func() function:"
   ]
  },
  {
   "cell_type": "code",
   "execution_count": 21,
   "metadata": {},
   "outputs": [
    {
     "name": "stdout",
     "output_type": "stream",
     "text": [
      "New Delhi is the capital of India.\n",
      "Hindi the primary language of India.\n",
      "India is a developing country.\n",
      "Washington, D.C. is the capital of USA.\n",
      "English is the primary language of USA.\n",
      "USA is a developed country.\n"
     ]
    }
   ],
   "source": [
    "def func(obj): \n",
    "    obj.capital() \n",
    "    obj.language() \n",
    "    obj.type()\n",
    "\n",
    "obj_ind = India() \n",
    "obj_usa = USA() \n",
    "   \n",
    "func(obj_ind) \n",
    "func(obj_usa) "
   ]
  },
  {
   "cell_type": "code",
   "execution_count": 22,
   "metadata": {},
   "outputs": [
    {
     "name": "stdout",
     "output_type": "stream",
     "text": [
      "New Delhi is the capital of India.\n",
      "Hindi the primary language of India.\n",
      "India is a developing country.\n",
      "Washington, D.C. is the capital of USA.\n",
      "English is the primary language of USA.\n",
      "USA is a developed country.\n"
     ]
    }
   ],
   "source": [
    "#Implementing Polymorphism with a Function\n",
    "class India(): \n",
    "    def capital(self): \n",
    "        print(\"New Delhi is the capital of India.\") \n",
    "   \n",
    "    def language(self): \n",
    "        print(\"Hindi the primary language of India.\") \n",
    "   \n",
    "    def type(self): \n",
    "        print(\"India is a developing country.\") \n",
    "\n",
    "class USA(): \n",
    "    def capital(self): \n",
    "        print(\"Washington, D.C. is the capital of USA.\") \n",
    "   \n",
    "    def language(self): \n",
    "        print(\"English is the primary language of USA.\") \n",
    "   \n",
    "    def type(self): \n",
    "        print(\"USA is a developed country.\") \n",
    "\n",
    "def func(obj): \n",
    "    obj.capital() \n",
    "    obj.language() \n",
    "    obj.type() \n",
    "\n",
    "obj_ind = India() \n",
    "obj_usa = USA() \n",
    "   \n",
    "func(obj_ind) \n",
    "func(obj_usa) "
   ]
  },
  {
   "cell_type": "markdown",
   "metadata": {},
   "source": [
    "# Inheritance\n",
    "    A class inherits member data and methods of another class ( inherited).\n",
    "    \n",
    "    Reusability: Allows to reuse code of parent class.\n",
    "    \n",
    "    Transitivity: Means that if class B inherits from another class A, \n",
    "    then all the subclasses of B would automatically inherit from class A.\n",
    "    \n",
    "    Syntax\n",
    "        class BaseClass:\n",
    "              Body of base class\n",
    "        class DerivedClass(BaseClass):\n",
    "              Body of derived class"
   ]
  },
  {
   "cell_type": "code",
   "execution_count": 23,
   "metadata": {
    "collapsed": true
   },
   "outputs": [],
   "source": [
    "#Parent or Base class\n",
    "class Person(object): \n",
    "       \n",
    "    # Constructor \n",
    "    def __init__(self, name): \n",
    "        self.name = name\n",
    "        \n",
    "   \n",
    "    # To get name \n",
    "    def getName(self): \n",
    "        return self.name \n",
    "   \n",
    "    # To check if this person is Teacher \n",
    "    def isTeacher(self): \n",
    "        return False"
   ]
  },
  {
   "cell_type": "code",
   "execution_count": 24,
   "metadata": {
    "collapsed": true
   },
   "outputs": [],
   "source": [
    "# Child class inheriting parent class\n",
    "# Inherited or Sub class (Note Person in bracket) \n",
    "class Teacher(Person): \n",
    "   \n",
    "    # Here we return true \n",
    "    def isTeacher(self): \n",
    "        return True"
   ]
  },
  {
   "cell_type": "code",
   "execution_count": 25,
   "metadata": {},
   "outputs": [
    {
     "name": "stdout",
     "output_type": "stream",
     "text": [
      "Python False\n",
      "Dvijesh Bhatt True\n",
      " Aditi  False\n"
     ]
    }
   ],
   "source": [
    "# Child class inheriting parent class\n",
    "# Inherited or Sub class (Note Person in bracket) \n",
    "class Student(Person):\n",
    "    \n",
    "    def isTeacher(self):\n",
    "        return False\n",
    "\n",
    "Person1 = Person(\"Python\")  # An Object of Person \n",
    "print(Person1.getName(), Person1.isTeacher()) \n",
    "   \n",
    "Teacher1 = Teacher(\"Dvijesh Bhatt\") # An Object of Teacher \n",
    "print(Teacher1.getName(), Teacher1.isTeacher()) \n",
    "\n",
    "Student1 = Student(\" Aditi \") # An Object of Teacher \n",
    "print(Student1.getName(), Student1.isTeacher()) "
   ]
  },
  {
   "cell_type": "markdown",
   "metadata": {},
   "source": [
    "# Constructors in inheritance\n",
    "        The super class constructor is not available to the sub class. The sub class constructor is invoked from the sub class object. The sub class constructor replaces the super class constructor hence its called contructor overriding. Similarly if there is a method of same name as of super class then its replaced by sub class if involved by sub class object. This is called method overriding.\n",
    "        \n",
    "        super() method can be used to call the super class constructor from the sub class.\n",
    "        super().__init__(self)"
   ]
  },
  {
   "cell_type": "code",
   "execution_count": 26,
   "metadata": {
    "collapsed": true
   },
   "outputs": [],
   "source": [
    "class Square:\n",
    "    def __init__(self,x):\n",
    "        self.x=x\n",
    "        \n",
    "    def Area(self):\n",
    "        print('Area of a square = ',self.x*self.x)\n",
    "\n",
    "        \n",
    "class Rectangle(Square):\n",
    "    def __init__(self,x,y):\n",
    "        super().__init__(x)\n",
    "        self.y=y\n",
    "    \n",
    "    def Area(self):\n",
    "        super().Area()\n",
    "        print('Area of a rectange = ',self.x*self.y)\n",
    "        "
   ]
  },
  {
   "cell_type": "code",
   "execution_count": 28,
   "metadata": {},
   "outputs": [
    {
     "name": "stdout",
     "output_type": "stream",
     "text": [
      "Enter two measurements : 10 12\n",
      "Area of a square =  100.0\n",
      "Area of a rectange =  120.0\n"
     ]
    }
   ],
   "source": [
    "a,b = [float(x) for x in input(\"Enter two measurements : \").split()]\n",
    "\n",
    "r=Rectangle(a,b)\n",
    "r.Area()"
   ]
  },
  {
   "cell_type": "markdown",
   "metadata": {},
   "source": [
    "# Types of Inheritance\n",
    "    > Single inheritance\n",
    "        Deriving one more sub classes from a single base class.\n",
    "        Inheritance examples discussed till now were examples of single inheritance \n",
    "    > Multiple inheritance\n",
    "        Deriving sub classes from multiple base classes.\n",
    "\n",
    "        Syntax:\n",
    "        class Base1:\n",
    "                Body of Base1 class\n",
    "        class Base2:\n",
    "                Body of Base2 class\n",
    "        class MultiDerived(Base1, Base2):\n",
    "                Body of MultiDerived class\n",
    "                   "
   ]
  },
  {
   "cell_type": "code",
   "execution_count": 29,
   "metadata": {},
   "outputs": [
    {
     "name": "stdout",
     "output_type": "stream",
     "text": [
      "Base1\n",
      "Base2\n",
      "Derived\n",
      "Geek1 Geek2\n",
      "Geek2\n"
     ]
    }
   ],
   "source": [
    "#Demo of multiple inheritance\n",
    "#Source GeeksforGeeks\n",
    "class Base1(object): \n",
    "    def __init__(self): \n",
    "        self.str1 = \"Geek1\"\n",
    "        print(\"Base1\")\n",
    "        \n",
    "    def PrintBase(self):\n",
    "        print(self.str1)\n",
    "        \n",
    "\n",
    "class Base2(object): \n",
    "    def __init__(self): \n",
    "        self.str2 = \"Geek2\"        \n",
    "        print(\"Base2\")\n",
    "        \n",
    "    def PrintBase(self):\n",
    "        print(self.str2)\n",
    "        \n",
    "        \n",
    "class Derived(Base2,Base1): \n",
    "    def __init__(self): \n",
    "          \n",
    "        # Calling constructors of Base1  and Base2 classes \n",
    "        # super() will throw error due to multiple parent classes\n",
    "        Base1.__init__(self) \n",
    "        Base2.__init__(self) \n",
    "        print(\"Derived\")\n",
    "          \n",
    "    def printStrs(self): \n",
    "        print(self.str1, self.str2) \n",
    "         \n",
    "\n",
    "ob = Derived() \n",
    "ob.printStrs() \n",
    "ob.PrintBase()"
   ]
  },
  {
   "cell_type": "code",
   "execution_count": 30,
   "metadata": {},
   "outputs": [
    {
     "name": "stdout",
     "output_type": "stream",
     "text": [
      "<class '__main__.Base2'>\n",
      "<class '__main__.Base1'>\n",
      "<class '__main__.Derived'>\n",
      "Geek1 Geek2\n",
      "Geek2\n"
     ]
    }
   ],
   "source": [
    "#Problems with multiple inheritance\n",
    "#The contructor of the derived class overides the base class constructor. Hence its not available to base class\n",
    "class Base1(object): \n",
    "    def __init__(self): \n",
    "        self.str1 = \"Geek1\"\n",
    "        print(Base1)\n",
    "        \n",
    "    def PrintBase(self):\n",
    "        print(self.str1)\n",
    "        \n",
    "\n",
    "class Base2(object): \n",
    "    def __init__(self): \n",
    "        self.str2 = \"Geek2\"        \n",
    "        print(Base2)\n",
    "        \n",
    "    def PrintBase(self):\n",
    "        print(self.str2)\n",
    "        \n",
    "        \n",
    "class Derived(Base2,Base1): \n",
    "    def __init__(self): \n",
    "        #self.c='c' \n",
    "        # Calling constructors of Base1  and Base2 classes \n",
    "        super().__init__() \n",
    "        Base1.__init__(self) # have to exclusively specify the base class for calling its contructor\n",
    "        print(Derived)\n",
    "          \n",
    "    def printStrs(self): \n",
    "        print(self.str1, self.str2) \n",
    "         \n",
    "\n",
    "ob = Derived() \n",
    "ob.printStrs() \n",
    "ob.PrintBase()"
   ]
  },
  {
   "cell_type": "code",
   "execution_count": 31,
   "metadata": {},
   "outputs": [
    {
     "name": "stdout",
     "output_type": "stream",
     "text": [
      "<class '__main__.Base2'>\n",
      "<class '__main__.Base1'>\n",
      "<class '__main__.Derived'>\n",
      "Geek1 Geek2\n",
      "Geek2\n"
     ]
    }
   ],
   "source": [
    "#Problems with multiple inheritance\n",
    "#The contructor of the derived class overides the base class constructor. Hence its not available to base class\n",
    "class Base1(object): \n",
    "    def __init__(self): \n",
    "        self.str1 = \"Geek1\"\n",
    "        print(Base1)\n",
    "        \n",
    "    def PrintBase(self):\n",
    "        print(self.str1)\n",
    "        \n",
    "\n",
    "class Base2(object): \n",
    "    def __init__(self): \n",
    "        self.str2 = \"Geek2\"        \n",
    "        print(Base2)\n",
    "        \n",
    "    def PrintBase(self):\n",
    "        print(self.str2)\n",
    "        \n",
    "        \n",
    "class Derived(Base2,Base1): \n",
    "    def __init__(self): \n",
    "        #self.c='c' \n",
    "        # Calling constructors of Base1  and Base2 classes \n",
    "        super().__init__() \n",
    "        Base1.__init__(self) # have to exclusively specify the base class for calling its contructor\n",
    "        print(Derived)\n",
    "          \n",
    "    def printStrs(self): \n",
    "        print(self.str1, self.str2) \n",
    "         \n",
    "\n",
    "ob = Derived() \n",
    "ob.printStrs() \n",
    "ob.PrintBase()"
   ]
  },
  {
   "cell_type": "code",
   "execution_count": 32,
   "metadata": {},
   "outputs": [
    {
     "name": "stdout",
     "output_type": "stream",
     "text": [
      "c\n",
      "a\n",
      "a\n"
     ]
    }
   ],
   "source": [
    "#Another example : Cannot access Base class contructor of B \n",
    "class A(object):\n",
    "    def __init__(self):\n",
    "        self.a='a'\n",
    "        print(self.a)\n",
    "\n",
    "class B(object):\n",
    "    def __init__(self):\n",
    "        self.b='b'\n",
    "        print(self.b)\n",
    "        \n",
    "class Derived(A,B):\n",
    "    def __init__(self):\n",
    "        self.c='c'\n",
    "        print(self.c)\n",
    "        super().__init__()\n",
    "        super().__init__()\n",
    "\n",
    "Object = Derived()\n",
    "\n",
    "    "
   ]
  },
  {
   "cell_type": "code",
   "execution_count": null,
   "metadata": {
    "collapsed": true
   },
   "outputs": [],
   "source": []
  }
 ],
 "metadata": {
  "kernelspec": {
   "display_name": "Python 3 (ipykernel)",
   "language": "python",
   "name": "python3"
  },
  "language_info": {
   "codemirror_mode": {
    "name": "ipython",
    "version": 3
   },
   "file_extension": ".py",
   "mimetype": "text/x-python",
   "name": "python",
   "nbconvert_exporter": "python",
   "pygments_lexer": "ipython3",
   "version": "3.9.13"
  }
 },
 "nbformat": 4,
 "nbformat_minor": 2
}

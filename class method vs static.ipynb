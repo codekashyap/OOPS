{
 "cells": [
  {
   "cell_type": "markdown",
   "metadata": {},
   "source": [
    "\n",
    "### What is Class Method in Python?\n",
    "\n",
    "The `@classmethod` decorator is a built-in function decorator that is an expression that gets evaluated after your function is defined. The result of that evaluation shadows your function definition. A class method receives the class as an implicit first argument, just like an instance method receives the instance.\n",
    "\n",
    "**Syntax Python Class Method:**\n",
    "\n",
    "```python\n",
    "class C(object):\n",
    "    @classmethod\n",
    "    def fun(cls, arg1, arg2, ...):\n",
    "       # ...\n",
    "```\n",
    "\n",
    "- `fun`: Function that needs to be converted into a class method.\n",
    "- Returns: A class method for the function.\n",
    "\n",
    "A class method is a method that is bound to the class and not the object of the class. They have access to the state of the class as it takes a class parameter that points to the class and not the object instance. It can modify a class state that would apply across all the instances of the class. For example, it can modify a class variable that will be applicable to all the instances.\n",
    "\n",
    "### What is the Static Method in Python?\n",
    "\n",
    "A static method does not receive an implicit first argument. A static method is also a method that is bound to the class and not the object of the class. This method can't access or modify the class state. It is present in a class because it makes sense for the method to be present in class.\n",
    "\n",
    "**Syntax Python Static Method:**\n",
    "\n",
    "```python\n",
    "class C(object):\n",
    "    @staticmethod\n",
    "    def fun(arg1, arg2, ...):\n",
    "        # ...\n",
    "```\n",
    "\n",
    "- Returns: A static method for function `fun`.\n",
    "\n",
    "### Class Method vs. Static Method\n",
    "\n",
    "The difference between the Class method and the static method is:\n",
    "\n",
    "- A class method takes `cls` as the first parameter, while a static method needs no specific parameters.\n",
    "- A class method can access or modify the class state, while a static method can't access or modify it.\n",
    "\n",
    "In general, static methods know nothing about the class state. They are utility-type methods that take some parameters and work upon those parameters. On the other hand, class methods must have the class as a parameter.\n",
    "\n",
    "We use `@classmethod` decorator in Python to create a class method, and we use `@staticmethod` decorator to create a static method in Python.\n",
    "\n",
    "**When to use the class or static method?**\n",
    "\n",
    "- We generally use the class method to create factory methods. Factory methods return class objects (similar to a constructor) for different use cases.\n",
    "- We generally use static methods to create utility functions.\n",
    "```\n",
    "\n"
   ]
  },
  {
   "cell_type": "code",
   "execution_count": 3,
   "metadata": {},
   "outputs": [
    {
     "name": "stdout",
     "output_type": "stream",
     "text": [
      "30\n",
      "30\n"
     ]
    }
   ],
   "source": [
    "#static method\n",
    "\n",
    "class MyClass:\n",
    "\tdef __init__(self, value):\n",
    "\t\tself.value = value\n",
    "\n",
    "\t@staticmethod\n",
    "\tdef get_max_value(x, y):\n",
    "\t\treturn max(x, y)\n",
    "\n",
    "# Create an instance of MyClass\n",
    "obj = MyClass(10)\n",
    "\n",
    "print(MyClass.get_max_value(20, 30))\n",
    "\n",
    "print(obj.get_max_value(20, 30))"
   ]
  },
  {
   "cell_type": "code",
   "execution_count": 3,
   "metadata": {},
   "outputs": [
    {
     "name": "stdout",
     "output_type": "stream",
     "text": [
      "21\n",
      "21\n",
      "True\n"
     ]
    }
   ],
   "source": [
    "# classmethod\n",
    "\n",
    "# Python program to demonstrate\n",
    "# use of class method and static method.\n",
    "from datetime import date\n",
    "\n",
    "\n",
    "class Person:\n",
    "\tdef __init__(self, name, age):\n",
    "\t\tself.name = name\n",
    "\t\tself.age = age\n",
    "\n",
    "\t# a class method to create a Person object by birth year.\n",
    "\t@classmethod\n",
    "\tdef fromBirthYear(cls, name, year):\n",
    "\t\treturn cls(name, date.today().year - year)\n",
    "\n",
    "\t# a static method to check if a Person is adult or not.\n",
    "\t@staticmethod\n",
    "\tdef isAdult(age):\n",
    "\t\treturn age > 18\n",
    "\n",
    "\n",
    "person1 = Person('mayank', 21)\n",
    "person2 = Person.fromBirthYear('mayank', 2002)\n",
    "\n",
    "print(person1.age)\n",
    "print(person2.age)\n",
    "\n",
    "# print the result\n",
    "print(Person.isAdult(22))\n"
   ]
  },
  {
   "cell_type": "code",
   "execution_count": null,
   "metadata": {},
   "outputs": [],
   "source": []
  }
 ],
 "metadata": {
  "kernelspec": {
   "display_name": "py3-TF2.0",
   "language": "python",
   "name": "python3"
  },
  "language_info": {
   "codemirror_mode": {
    "name": "ipython",
    "version": 3
   },
   "file_extension": ".py",
   "mimetype": "text/x-python",
   "name": "python",
   "nbconvert_exporter": "python",
   "pygments_lexer": "ipython3",
   "version": "3.9.15"
  },
  "orig_nbformat": 4
 },
 "nbformat": 4,
 "nbformat_minor": 2
}
